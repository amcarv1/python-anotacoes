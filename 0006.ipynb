{
 "cells": [
  {
   "cell_type": "markdown",
   "id": "de6ccc35",
   "metadata": {},
   "source": [
    "<h1 align='center'> Operadores de Atribuição </h1>\n",
    "\n",
    "```python\n",
    "contador = 5\n",
    "\n",
    "contador += 5                                     # contador = contador + 5\n",
    "\n",
    "contador -= 2                                     # contador = contador - 2\n",
    "\n",
    "contador *= 10                                    # contador = contador * 10\n",
    "\n",
    "contador /= 2                                     # contador = contador / 2\n",
    "\n",
    "contador **= 2                                     # contador = contador ** 2\n",
    "\n",
    "contador //= 3                                      # contador = contador // 3\n",
    "```"
   ]
  }
 ],
 "metadata": {
  "kernelspec": {
   "display_name": "Python 3 (ipykernel)",
   "language": "python",
   "name": "python3"
  },
  "language_info": {
   "codemirror_mode": {
    "name": "ipython",
    "version": 3
   },
   "file_extension": ".py",
   "mimetype": "text/x-python",
   "name": "python",
   "nbconvert_exporter": "python",
   "pygments_lexer": "ipython3",
   "version": "3.10.2"
  }
 },
 "nbformat": 4,
 "nbformat_minor": 5
}
