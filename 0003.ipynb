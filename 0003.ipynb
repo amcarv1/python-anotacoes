{
 "cells": [
  {
   "cell_type": "markdown",
   "id": "344d1f59",
   "metadata": {},
   "source": [
    "<h1 align='center'> Declarando Variáveis </h1>\n",
    "\n",
    "```Python\n",
    "# Podemos declarar variáveis em Python da seguinte forma:\n",
    "\n",
    "nome = 'João'\n",
    "idade = 22\n",
    "peso = 92.3\n",
    "altura = 1.77\n",
    "\n",
    "```"
   ]
  }
 ],
 "metadata": {
  "kernelspec": {
   "display_name": "Python 3 (ipykernel)",
   "language": "python",
   "name": "python3"
  },
  "language_info": {
   "codemirror_mode": {
    "name": "ipython",
    "version": 3
   },
   "file_extension": ".py",
   "mimetype": "text/x-python",
   "name": "python",
   "nbconvert_exporter": "python",
   "pygments_lexer": "ipython3",
   "version": "3.10.2"
  }
 },
 "nbformat": 4,
 "nbformat_minor": 5
}
