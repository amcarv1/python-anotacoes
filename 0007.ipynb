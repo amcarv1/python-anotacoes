{
 "cells": [
  {
   "cell_type": "markdown",
   "id": "481248c5",
   "metadata": {},
   "source": [
    "<h1 align='center'> Atribuição Múltipla, Atribuição Composta e Atribuição Condicional </h1>"
   ]
  },
  {
   "cell_type": "markdown",
   "id": "ff13d045",
   "metadata": {},
   "source": [
    "```python\n",
    "####### Atribuição Múltipla #######\n",
    "\n",
    "x, y = 10, 20\n",
    "\n",
    "a, b, c, d = 5, True, 9.2, 'Laranja'\n",
    "\n",
    "###################################\n",
    "\n",
    "####### Atribuição Composta #######\n",
    "\n",
    "a = b = c = d = e = 0\n",
    "w = x = y = 12\n",
    "\n",
    "###################################\n",
    "\n",
    "####### Atribuição Condicional #######\n",
    "\n",
    "nota = 9\n",
    "\n",
    "situacao = 'Aprovado' if nota >= 7 else 'Reprovado'\n",
    "\n",
    "###################################\n",
    "```"
   ]
  }
 ],
 "metadata": {
  "kernelspec": {
   "display_name": "Python 3 (ipykernel)",
   "language": "python",
   "name": "python3"
  },
  "language_info": {
   "codemirror_mode": {
    "name": "ipython",
    "version": 3
   },
   "file_extension": ".py",
   "mimetype": "text/x-python",
   "name": "python",
   "nbconvert_exporter": "python",
   "pygments_lexer": "ipython3",
   "version": "3.10.2"
  }
 },
 "nbformat": 4,
 "nbformat_minor": 5
}
