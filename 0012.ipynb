{
 "cells": [
  {
   "cell_type": "markdown",
   "id": "89471c5a",
   "metadata": {},
   "source": [
    "<h1 align='center'> Estrutura de Repetição - While </h1>\n",
    "\n",
    "```python\n",
    "# Exemplo 01 - Contagem até 10\n",
    "\n",
    "i = 0\n",
    "while i < 10:\n",
    "    print(i)\n",
    "    i+=1\n",
    "\n",
    "# Exemplo 02 - Contagem Regressiva de 10 até 1\n",
    "\n",
    "i = 10\n",
    "while i >= 1:\n",
    "    print(i)\n",
    "    i-=1\n",
    "\n",
    "# Exemplo 03 -  Contagem até 10 usando break.\n",
    "\n",
    "i = 0\n",
    "while i <= 10:\n",
    "    print(i)\n",
    "    if (i == 4):\n",
    "        break\n",
    "    i+=1\n",
    "\n",
    "print('Break')\n",
    "```"
   ]
  }
 ],
 "metadata": {
  "kernelspec": {
   "display_name": "Python 3 (ipykernel)",
   "language": "python",
   "name": "python3"
  },
  "language_info": {
   "codemirror_mode": {
    "name": "ipython",
    "version": 3
   },
   "file_extension": ".py",
   "mimetype": "text/x-python",
   "name": "python",
   "nbconvert_exporter": "python",
   "pygments_lexer": "ipython3",
   "version": "3.10.2"
  }
 },
 "nbformat": 4,
 "nbformat_minor": 5
}
