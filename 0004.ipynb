{
 "cells": [
  {
   "cell_type": "markdown",
   "id": "748eb45b",
   "metadata": {},
   "source": [
    "<h1 align='center'> Tipos de Dados em Python e a Função type()</h1>\n",
    "\n",
    "```Python\n",
    "\"\"\" -------------  Tipos String ---------------------- \"\"\"\n",
    "\n",
    "nome      = 'Luiz'                      # String\n",
    "sobrenome = \"Pereira\"                   # String\n",
    "cidade    = 'Minas Gerais'              # String\n",
    "\n",
    "\"\"\" -------------  Tipos Int ---------------------- \"\"\"\n",
    "\n",
    "idade = 25                     # Int\n",
    "ano   = 2022                   # Int\n",
    "\n",
    "\"\"\" -------------  Tipos Float ---------------------- \"\"\"\n",
    "\n",
    "peso = 88.5                     # Float\n",
    "altura   = 1.92                 # Float\n",
    "\n",
    "\"\"\" -------------  Tipos Booleano ---------------------- \"\"\"\n",
    "\n",
    "aprovado   = True                  # Booleano\n",
    "luz_acessa = False                 # Booleano\n",
    "\n",
    "\"\"\" -------------  Função type() ---------------------- \"\"\"\n",
    "\n",
    "type(nome)                     # Retorna string\n",
    "type(idade)                    # Retorna int\n",
    "type(aprovado)                 # Retorna booleano\n",
    "type(peso)                     # Retorna float\n",
    "```"
   ]
  }
 ],
 "metadata": {
  "kernelspec": {
   "display_name": "Python 3 (ipykernel)",
   "language": "python",
   "name": "python3"
  },
  "language_info": {
   "codemirror_mode": {
    "name": "ipython",
    "version": 3
   },
   "file_extension": ".py",
   "mimetype": "text/x-python",
   "name": "python",
   "nbconvert_exporter": "python",
   "pygments_lexer": "ipython3",
   "version": "3.10.2"
  }
 },
 "nbformat": 4,
 "nbformat_minor": 5
}
