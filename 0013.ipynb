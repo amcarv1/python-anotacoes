{
 "cells": [
  {
   "cell_type": "markdown",
   "id": "18edddf4",
   "metadata": {},
   "source": [
    "<h1 align='center'> Listas </h1>"
   ]
  },
  {
   "cell_type": "markdown",
   "id": "0f2b3754",
   "metadata": {},
   "source": [
    "<h3> Como Criar Listas </h3>"
   ]
  },
  {
   "cell_type": "markdown",
   "id": "9f366716",
   "metadata": {},
   "source": [
    "```python\n",
    "numeros = [0, 1, 2, 3, 4, 5, 6, 7, 8, 9]               # Lista de elementos tipo int.\n",
    "vogais = ['a', 'e', 'i', 'o', 'u']                     # Lista de elementos tipo string.\n",
    "misto = [9, 'e', True, 1.78, 'Python']                 # Lista de elementos variados.\n",
    "```"
   ]
  },
  {
   "cell_type": "markdown",
   "id": "d473480b",
   "metadata": {},
   "source": [
    "<h3> Como Acessar elementos da Lista </h3>"
   ]
  },
  {
   "cell_type": "markdown",
   "id": "b1776ee1",
   "metadata": {},
   "source": [
    "```Python\n",
    "# Listas são indexadas (possuem índices).\n",
    "\n",
    "# Os índices podem ser positivos\n",
    "#            0         1       2       3       4\n",
    "frutas = ['Laranja', 'Maçã', 'Pêra', 'Uva', 'Melancia']\n",
    "\n",
    "# Os índices podem ser Negativos\n",
    "#           -5        -4      -3      -2       -1\n",
    "frutas = ['Laranja', 'Maçã', 'Pêra', 'Uva', 'Melancia']\n",
    "\n",
    "# Sintaxe para acessar os elementos -> nome da lista[número do índice]\n",
    "frutas[3]                                             # Retorna o elemento Uva.\n",
    "frutas[-4]                                            # Retorna o elemento Maçã.\n",
    "\n",
    "# Para acessar o primeiro elemento de uma lista:\n",
    "frutas[0]\n",
    "# Para acessar o último elemento de uma lista:\n",
    "frutas[-1]\n",
    "```"
   ]
  },
  {
   "cell_type": "markdown",
   "id": "90305af5",
   "metadata": {},
   "source": [
    "<h3> Fatiamento de Listas </h3>"
   ]
  },
  {
   "cell_type": "markdown",
   "id": "15885a72",
   "metadata": {},
   "source": [
    "```Python\n",
    "# Sintaxe do Fatiamento -> nome da lista[início do fatiamento:Final do fatiamento:Passo do fatiamento]\n",
    "frutas = ['Laranja', 'Maçã', 'Pêra', 'Uva', 'Melancia']\n",
    "\n",
    "frutas[2:4]  # Retorna os elementos Pêra, Uva, Melancia.\n",
    "frutas[:3]   # Retorna de Laranjan até Uva.\n",
    "frutas[1:]   # Retorna de Maçã até Melancia.\n",
    "frutas[::2]  # Percore toda a lista a cada dois elementos.\n",
    "```"
   ]
  },
  {
   "cell_type": "markdown",
   "id": "7d432376",
   "metadata": {},
   "source": [
    "<h3> Adicionando, Alterando e Excluindo Ítens </h3>"
   ]
  },
  {
   "cell_type": "markdown",
   "id": "363b6ef2",
   "metadata": {},
   "source": [
    "```Python\n",
    "num = [1, 2, 3, 4, 5]\n",
    "\n",
    "# Como adicionar elemento ao final da lista.\n",
    "num.append(10)\n",
    "\n",
    "# Como adicionar elemento em um índice específico.\n",
    "num.insert(2, 'Bola')                                 # No índice 2 foi colocado o elemento Bola.\n",
    "\n",
    "# Como alterar elementos da lista.\n",
    "num[3] = 123\n",
    "\n",
    "# Como deletar elementos da lista.\n",
    "del(num[4])\n",
    "del(num[1:3])\n",
    "num.pop()                                            # Removendo o último elemento da lista.\n",
    "num.pop(2)                                           # Removendo o elemento de índice 2 da lista.\n",
    "\n",
    "\"\"\"\n",
    "A principal diferença entre pop e del é que pop retorna o valor excluído. Porém, del pode revomer mais de um elemento ao mesmo tempo.\n",
    "\"\"\"\n",
    "# Como limpar toda a lista.\n",
    "num.clear()\n",
    "```"
   ]
  },
  {
   "cell_type": "markdown",
   "id": "6fa98287",
   "metadata": {},
   "source": [
    "<h3> Lista Dentro de Listas </h3>"
   ]
  },
  {
   "cell_type": "markdown",
   "id": "61077fe1",
   "metadata": {},
   "source": [
    "```Python\n",
    "#                     0                         1\n",
    "#             0       1         2          0   1   2\n",
    "nomes = [ [ 'Ana', 'Júlia', 'Roberta' ], [ 20, 32, 64 ] ]\n",
    "\n",
    "nomes[0]                              # [ 'Ana', 'Júlia', 'Roberta' ]\n",
    "nomes[1]                              # [ 20, 32, 64 ] ]\n",
    "nomes[1][1]                           # 32\n",
    "nomes[0][2]                           # Roberta\n",
    "```"
   ]
  },
  {
   "cell_type": "markdown",
   "id": "97ae1201",
   "metadata": {},
   "source": [
    "<h3> Ordenando Listas <h3>"
   ]
  },
  {
   "cell_type": "markdown",
   "id": "8a9c3a0a",
   "metadata": {},
   "source": [
    "```Python\n",
    "vogais = ['e', 'u', 'a', 'o', 'i']\n",
    "vogais.sort()                     # Colocando na ordem alfabética correta.\n",
    "vogais.sort(reverse=True)         # Colocando na ordem alfabética inversa.\n",
    "vogais.reverse()                  # Modificando as posições, último vai pra primeiro, penúltimo pra segundo, etc...\n",
    "\n",
    "\"\"\"\n",
    "A principal diferença entre reserve e sort é que o sort ordena a lista e em seguida coloca na ordem inversa. O reverse coloca na ordem inversa em que a lista já se encontra.\n",
    "\"\"\"\n",
    "\n",
    "numeros = [9, 3, 5, 1, 2, 4, 6, 7, 8]\n",
    "numeros.sort()                    # Lista ordenada corretamente.\n",
    "numeros.reverse()                 # Lista \"girada ao contrário\"\n",
    "```"
   ]
  },
  {
   "cell_type": "markdown",
   "id": "6e43451d",
   "metadata": {},
   "source": [
    "<h3> Funções Úteis </h3>"
   ]
  },
  {
   "cell_type": "markdown",
   "id": "2f98df56",
   "metadata": {},
   "source": [
    "```Python\n",
    "lista = [10, 'b', 1.21, 'Python', 21]\n",
    "\n",
    "len(lista)                 # Retorna o número de elementos da lista.\n",
    "lista.count('b')           # Retorna o número de elementos que a lista tem que está dentro dos parênteses de count().\n",
    "lista.index(21)            # Retorna o índice onde o elemento do parênteses se encontra.\n",
    "'Python' in lista          # Retorna True ou False se dado elemento está ou não na lista\n",
    "10 not in Lista            # Retorna True ou False se dado elemento está ou não na lista\n",
    "```"
   ]
  },
  {
   "cell_type": "markdown",
   "id": "0bfa9d25",
   "metadata": {},
   "source": [
    "<h3> Iterando Listas </h3>"
   ]
  },
  {
   "cell_type": "markdown",
   "id": "43e20286",
   "metadata": {},
   "source": [
    "```Python\n",
    "lista = [1, 2, 3, 4, 5]\n",
    "\n",
    "# Como iterar lista usando while.\n",
    "\n",
    "i = 0   \n",
    "tamanho = len(lista)\n",
    "\n",
    "while (i < tamanho):\n",
    "    print(lista[i])\n",
    "    i += 1\n",
    "    \n",
    "# Como iterar usando for in\n",
    "\n",
    "for i in lista:\n",
    "    print(i)\n",
    "    \n",
    "# Como iterar usando for range\n",
    "\n",
    "for i in range(tamanho):\n",
    "    print(lista[i])\n",
    "    \n",
    "# Como iterar usando for in enumerate\n",
    "\n",
    "for indice, valor in enumerate(lista):\n",
    "    print(indice, valor)\n",
    "```"
   ]
  },
  {
   "cell_type": "markdown",
   "id": "7fc5c86c",
   "metadata": {},
   "source": [
    "<h3> List Comprehension </h3>"
   ]
  },
  {
   "cell_type": "markdown",
   "id": "ca393689",
   "metadata": {},
   "source": [
    "```Python\n",
    "\"\"\"\n",
    "Sintaxe da List Comprehension\n",
    "\n",
    "[ expressão for elemento in lista [if condição] ]\n",
    "\"\"\"\n",
    "\n",
    "mult_dois = [ i * 2 for i in range(10) ] \n",
    "\n",
    "mult_dois = []\n",
    "for i in range(10):\n",
    "    pares.append(i * 2)\n",
    "    \n",
    "pares = [ i * 2 for i in range(10) if i % 2 == 0 ]\n",
    "\n",
    "pares = []\n",
    "for i in range(10):\n",
    "    if i % 2 == 0:\n",
    "        pares.append(i)\n",
    "```"
   ]
  }
 ],
 "metadata": {
  "kernelspec": {
   "display_name": "Python 3 (ipykernel)",
   "language": "python",
   "name": "python3"
  },
  "language_info": {
   "codemirror_mode": {
    "name": "ipython",
    "version": 3
   },
   "file_extension": ".py",
   "mimetype": "text/x-python",
   "name": "python",
   "nbconvert_exporter": "python",
   "pygments_lexer": "ipython3",
   "version": "3.10.2"
  }
 },
 "nbformat": 4,
 "nbformat_minor": 5
}
