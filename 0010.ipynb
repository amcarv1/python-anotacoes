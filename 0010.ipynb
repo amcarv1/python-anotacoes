{
 "cells": [
  {
   "cell_type": "markdown",
   "id": "3c039016",
   "metadata": {},
   "source": [
    "<h1 align='center'> Estrutrura Condicional Simples, Composta e Aninhada </h1>\n",
    "\n",
    "```Python\n",
    "# -=   Estrutura Condicional Simples.  -= #\n",
    "\n",
    "hora = 10\n",
    "\n",
    "if (hora <= 12):\n",
    "    print('Bom Dia!')\n",
    "else:\n",
    "    print('Já passou do meio dia.')\n",
    "\n",
    "\n",
    "# -=-=-=-=-=-=-=-=-=-=-=-=-=-=-=-=-=-=-=-=-=-= #                                                                \n",
    "\n",
    "# -=   Estrutura Condicional Composta.  -= #\n",
    "\n",
    "hora = 15\n",
    "\n",
    "if (hora >= 0 and hora <= 12):\n",
    "    print('Bom Dia!')\n",
    "else:\n",
    "    print('Já passou do meio dia.')\n",
    "\n",
    "\n",
    "# -=-=-=-=-=-=-=-=-=-=-=-=-=-=-=-=-=-=-=-=-=-= #   \n",
    "\n",
    "# -=   Estrutura Condicional Aninhada.  -= #\n",
    "\n",
    "hora = 15\n",
    "\n",
    "if (hora >= 0 and hora <= 11):\n",
    "    print('Bom Dia!')\n",
    "elif (hora >= 12 and hora <= 17):\n",
    "    print('Boa Tarde!')\n",
    "elif (hora >= 18 and hora <= 23):\n",
    "    print('Boa Noite!')\n",
    "else:\n",
    "    print('Horá inválida!')\n",
    "\n",
    "\n",
    "# -=-=-=-=-=-=-=-=-=-=-=-=-=-=-=-=-=-=-=-=-=-= */\n",
    "\n",
    "```"
   ]
  }
 ],
 "metadata": {
  "kernelspec": {
   "display_name": "Python 3 (ipykernel)",
   "language": "python",
   "name": "python3"
  },
  "language_info": {
   "codemirror_mode": {
    "name": "ipython",
    "version": 3
   },
   "file_extension": ".py",
   "mimetype": "text/x-python",
   "name": "python",
   "nbconvert_exporter": "python",
   "pygments_lexer": "ipython3",
   "version": "3.10.2"
  }
 },
 "nbformat": 4,
 "nbformat_minor": 5
}
