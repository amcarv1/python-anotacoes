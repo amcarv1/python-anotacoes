{
 "cells": [
  {
   "cell_type": "markdown",
   "id": "5c026c50",
   "metadata": {},
   "source": [
    "<h1 align='center'> Operadores de Comparação e Operadores Lógicos </h1>\n",
    "\n",
    "```Python\n",
    "#                                  Operadores de Comparação                                                      #\n",
    "\n",
    "print(10 > 5)                # Operador de maior que. Retornará true.\n",
    "print(10 >= 5)               # Operador de maior ou igual que. Retornará true.\n",
    "print(10 < 5)                # Operador de menor que. Retornará false.\n",
    "print(10 <= 5)               # Operador de menor ou igual que. Retornará false.\n",
    "print(10 == 5)              # Operador de igualdade estrita. Retornará false.\n",
    "print(10 != 5)              # Operador de diferença estrita. Retornará true.\n",
    "\n",
    "# Podemos comparar strings também.\n",
    "\n",
    "print('A' == 'C')\n",
    "print('Laranja' == 'Laranja')\n",
    "\n",
    "# Podemos atribuir os valores a variáveis.\n",
    "\n",
    "resultado = 10 > 5           # resultado terá valor true.\n",
    "\n",
    "# -=-=-=-=-=-=-=-=-=-=-=-=-=-=-=-=-=-=-=-=-=-=-=-=-=-=-=-=-=-=-=-=-=-=-=-=-=-=-=-=-=-=-=-=-=-=-=-=-=-=-=-=-=-=-=-= #\n",
    "\n",
    "\n",
    "#                                 Operadores Lógicos                                                              #\n",
    "\n",
    "print((5 > 2) and ('Laranja' == 'Vermelho'))     # Retornará false, pois uma das expressões é false.\n",
    "print((5 > 2) and (100 < 250))                    # Retornará true, pois todas as expressões são true.\n",
    "print((10 < 20) or (3 == 3))                    # Retornara true, pois pelo menos uma das expressões é true.\n",
    "print((10 > 20) or (3 != 3))                    # Retornara false, pois todas as expressões são false.\n",
    "print((5 != 3))                                # Retornara false, pois o ! inverte o valor da expressão a direita.\n",
    "```"
   ]
  }
 ],
 "metadata": {
  "kernelspec": {
   "display_name": "Python 3 (ipykernel)",
   "language": "python",
   "name": "python3"
  },
  "language_info": {
   "codemirror_mode": {
    "name": "ipython",
    "version": 3
   },
   "file_extension": ".py",
   "mimetype": "text/x-python",
   "name": "python",
   "nbconvert_exporter": "python",
   "pygments_lexer": "ipython3",
   "version": "3.10.2"
  }
 },
 "nbformat": 4,
 "nbformat_minor": 5
}
