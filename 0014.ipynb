{
 "cells": [
  {
   "cell_type": "markdown",
   "id": "9b6b5f06",
   "metadata": {},
   "source": [
    "<h1 align=center> Strings em Python </h1>"
   ]
  },
  {
   "cell_type": "markdown",
   "id": "1cb33afe",
   "metadata": {},
   "source": [
    "<h3> Métodos Úteis </h3>"
   ]
  },
  {
   "cell_type": "markdown",
   "id": "dccbb26d",
   "metadata": {},
   "source": [
    "```Python\n",
    "# Como verificar o tamanho de uma string.\n",
    "len(frase)\n",
    "\n",
    "# Como transformar uma string em uma lista.\n",
    "frase.split(' ')\n",
    "\n",
    "# Como alterar os valores de uma string.\n",
    "frase.replace('Python', 'PHP')\n",
    "\n",
    "# Como colar as primeiras letras de cada palavra em maiúsculas.\n",
    "frase.capitalize()\n",
    "\n",
    "# Como colocar toda a frase em minúsculas.\n",
    "frase.lower()\n",
    "\n",
    "# Como retirar espaços antes e depois da strings.\n",
    "frase.strip()\n",
    "\n",
    "# Como colocar somente a primeira letra em maiúscula\n",
    "frase.title()\n",
    "```"
   ]
  },
  {
   "cell_type": "markdown",
   "id": "816995b4",
   "metadata": {},
   "source": [
    "<h3> Iterando Strings </h3>"
   ]
  },
  {
   "cell_type": "markdown",
   "id": "b5b88b27",
   "metadata": {},
   "source": [
    "```Python\n",
    "######\n",
    "for i in frase:\n",
    "    print(i)\n",
    "\n",
    "######\n",
    "for i in frase[2:8]:\n",
    "    print(i)\n",
    "\n",
    "#####\n",
    "for indice,valor in enumerate(frase):\n",
    "    print(indice, valor)\n",
    "\n",
    "######\n",
    "c = 0\n",
    "while (c < len(frase)):\n",
    "    print(frase[c])\n",
    "    c += 1\n",
    "```"
   ]
  }
 ],
 "metadata": {
  "kernelspec": {
   "display_name": "Python 3 (ipykernel)",
   "language": "python",
   "name": "python3"
  },
  "language_info": {
   "codemirror_mode": {
    "name": "ipython",
    "version": 3
   },
   "file_extension": ".py",
   "mimetype": "text/x-python",
   "name": "python",
   "nbconvert_exporter": "python",
   "pygments_lexer": "ipython3",
   "version": "3.10.2"
  }
 },
 "nbformat": 4,
 "nbformat_minor": 5
}
