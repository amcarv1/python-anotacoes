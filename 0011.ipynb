{
 "cells": [
  {
   "cell_type": "markdown",
   "id": "936bcd75",
   "metadata": {},
   "source": [
    "<h1 align='center'> Estrutura de Repetição - for </h1>\n",
    "\n",
    "```Python\n",
    "# Exemplo 01 - Contando de 1 ao 10.\n",
    "\n",
    "for i in range(1, 11):\n",
    "    print(i)\n",
    "\n",
    "# Exemplo 02 - Contando de 0 ao 10.\n",
    "\n",
    "for i in range(11):\n",
    "    print(i)\n",
    "\n",
    "# Exemplo 03 - Contando de 10 até 1.\n",
    "\n",
    "for i in range(10, 0, -1):\n",
    "    print(i)\n",
    "\n",
    "# Exemplo 04 - Exibindo a tabuada.\n",
    "\n",
    "for i in range(1, 11):\n",
    "    for j in range(1, 11):\n",
    "        print(f'{i} x {j} = {i * j}')\n",
    "        \n",
    "# Exemplo 05 - Usando Break\n",
    "\n",
    "for num in range(0, 10):\n",
    "    print(num)\n",
    "    if (num == 4):\n",
    "        print('Lá vem o break...')\n",
    "        break\n",
    "        \n",
    "print('Breakeado!')\n",
    "\n",
    "\n",
    "# Exemplo 06 - Usando Continue\n",
    "\n",
    "for letra in 'Curso de Python':\n",
    "    if letra == 's':\n",
    "        continue\n",
    "    print(letra)\n",
    "```"
   ]
  }
 ],
 "metadata": {
  "kernelspec": {
   "display_name": "Python 3 (ipykernel)",
   "language": "python",
   "name": "python3"
  },
  "language_info": {
   "codemirror_mode": {
    "name": "ipython",
    "version": 3
   },
   "file_extension": ".py",
   "mimetype": "text/x-python",
   "name": "python",
   "nbconvert_exporter": "python",
   "pygments_lexer": "ipython3",
   "version": "3.10.2"
  }
 },
 "nbformat": 4,
 "nbformat_minor": 5
}
