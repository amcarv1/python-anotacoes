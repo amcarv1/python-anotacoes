{
 "cells": [
  {
   "cell_type": "markdown",
   "id": "f361043a",
   "metadata": {},
   "source": [
    "<h1 align=center> Dicionários em Python </h1>"
   ]
  },
  {
   "cell_type": "markdown",
   "id": "f0a2fa79",
   "metadata": {},
   "source": [
    "<h3> Como criar dicionários </h3>"
   ]
  },
  {
   "cell_type": "markdown",
   "id": "945c6b70",
   "metadata": {},
   "source": [
    "```Python\n",
    "# Criando Um Dicionário Chamado Pessoa.\n",
    "pessoa = {\n",
    "    'nome': 'Bruna',\n",
    "    'idade': 32,\n",
    "    'peso': 60.2\n",
    "}\n",
    "\n",
    "# Exibindo os dados do dicionário.\n",
    "print(pessoa['nome'])\n",
    "print(pessoa['idade'])\n",
    "print(pessoa['peso'])\n",
    "\n",
    "# Criando um dicionário chamado pessoas onde todas as chaves são numéricas.\n",
    "pessoas = {\n",
    "    10: 'Bruna',\n",
    "    20: 'Júlia',\n",
    "    30: 'Ana'\n",
    "}\n",
    "\n",
    "# Exibindo os dados com chaves numéricas.\n",
    "print(pessoas[10])\n",
    "print(pessoas[20])\n",
    "print(pessoas[30])\n",
    "\n",
    "# Criando um dicionário com chaves de tipo tuplas com elementos numéricos.\n",
    "pessoas3 = {\n",
    "    (10, 20): 'Júlia',\n",
    "    (30, 40): 'Bruna'\n",
    "}\n",
    "\n",
    "# Exibindo os dados com chaves do tipo tupla.\n",
    "print(pessoas3[(10, 20)])\n",
    "print(pessoas3[(30, 40)])\n",
    "\n",
    "# Criando um dicionário com chaves de tipo tuplas com elementos string.\n",
    "pessoas4 = {\n",
    "    ('a', 'b'): 'Júlia',\n",
    "    ('d', 'c'): 'Bruna'\n",
    "}\n",
    "\n",
    "# Exibindo os dados com chaves do tipo tupla.\n",
    "print(pessoas4[('a', 'b')])\n",
    "print(pessoas4[('d', 'c')])\n",
    "```"
   ]
  },
  {
   "cell_type": "markdown",
   "id": "345d8ddd",
   "metadata": {},
   "source": [
    "<h3> Outras formas de criar dicionários </h3>"
   ]
  },
  {
   "cell_type": "markdown",
   "id": "76aef84d",
   "metadata": {},
   "source": [
    "```Python\n",
    "# Criando um dicionário vazio\n",
    "\n",
    "pessoa = {}\n",
    "\n",
    "# Adicionando elementos\n",
    "\n",
    "pessoa['nome'] = 'João'\n",
    "pessoa['idade'] = 23\n",
    "\n",
    "# Criando um dicionário vazio através da classe dict.\n",
    "\n",
    "pessoa2 = dict()\n",
    "\n",
    "# Criando um dicionário através da classe dict com atributos.\n",
    "\n",
    "pessoa3 = dict(nome = 'João', idade = 22)\n",
    "```"
   ]
  },
  {
   "cell_type": "markdown",
   "id": "dda81432",
   "metadata": {},
   "source": [
    "<h3> Alguns Métodos Úteis </h3>"
   ]
  },
  {
   "cell_type": "markdown",
   "id": "d1ec66a2",
   "metadata": {},
   "source": [
    "```Python\n",
    "# Dicionário dos Exemplos.\n",
    "pessoa = {\n",
    "    'nome': 'Bruna',\n",
    "    'idade': 32,\n",
    "    'peso': 60.2\n",
    "}\n",
    "\n",
    "# Utilizando a função len() para verificar o tamanho do dicionário.\n",
    "\n",
    "print(len(pessoa)) \n",
    "\n",
    "# Utilizando a função .get() para verificar se uma chave existe no dicionário.\n",
    "\n",
    "print(pessoa.get('nome'))         # Retorna o valor da chave.\n",
    "print(pessoa.get('cidade'))       # Retorna o valor None.\n",
    "\n",
    "# Utulizando a função .copy() para copiar os dados do dicionário.\n",
    "\n",
    "pessoa2 = pessoa.copy()\n",
    "\n",
    "# Utilizando a função .pop() delete um elemento.\n",
    "\n",
    "pessoa2.pop('idade')\n",
    "\n",
    "# Utilizando a função .clear() para limpar todos os elementos do dicionário.\n",
    "\n",
    "pessoa.clear()\n",
    "\n",
    "# Utilizando a função .update() para adiconar novos itens ao dicionário. \n",
    "\n",
    "pessoa2.update({'cidade': 'Teresina', 'capital': 'PI'})\n",
    "\n",
    "# Utilizando o comando del para eliminar qualquer elemento do dicionário.\n",
    "\n",
    "del pessoa2['cidade']\n",
    "```"
   ]
  },
  {
   "cell_type": "markdown",
   "id": "349b8a49",
   "metadata": {},
   "source": [
    "<h3> Iterando Sob o Dicionário </h3>"
   ]
  },
  {
   "cell_type": "markdown",
   "id": "7ec0e5a0",
   "metadata": {},
   "source": [
    "```Python\n",
    "# Dicionário dos Exemplos\n",
    "pessoa = {\n",
    "    'nome': 'Bruna',\n",
    "    'idade': 32,\n",
    "    'peso': 60.2\n",
    "}\n",
    "\n",
    "# Iterando um objeto mostrando suas chaves.\n",
    "\n",
    "for chave in pessoa:\n",
    "    print(chave)\n",
    "\n",
    "# Iterando um objeto e mostrando seus valores.\n",
    "\n",
    "for valor in pessoa.values():\n",
    "    print(valor)\n",
    "\n",
    "# Iterando um objeto e mostrando chave e valor\n",
    "\n",
    "for chave, valor in pessoa.items():\n",
    "    print(chave, valor)\n",
    "```"
   ]
  },
  {
   "cell_type": "markdown",
   "id": "27f042be",
   "metadata": {},
   "source": [
    "<h3> Como transformar dicionários em listas </h3>"
   ]
  },
  {
   "cell_type": "markdown",
   "id": "22867d34",
   "metadata": {},
   "source": [
    "```Python\n",
    "pessoa = {\n",
    "    'nome': 'Bruna',\n",
    "    'idade': 32,\n",
    "    'peso': 60.2\n",
    "}\n",
    "\n",
    "chaves = pessoa.keys()\n",
    "valores = pessoa.values()\n",
    "\n",
    "chaves_lista = list(chaves)\n",
    "valores_lista = list(valores)\n",
    "\n",
    "print(chaves_lista)\n",
    "print(valores_lista)\n",
    "```"
   ]
  }
 ],
 "metadata": {
  "kernelspec": {
   "display_name": "Python 3 (ipykernel)",
   "language": "python",
   "name": "python3"
  },
  "language_info": {
   "codemirror_mode": {
    "name": "ipython",
    "version": 3
   },
   "file_extension": ".py",
   "mimetype": "text/x-python",
   "name": "python",
   "nbconvert_exporter": "python",
   "pygments_lexer": "ipython3",
   "version": "3.10.2"
  }
 },
 "nbformat": 4,
 "nbformat_minor": 5
}
