{
 "cells": [
  {
   "cell_type": "markdown",
   "id": "de53aa3f",
   "metadata": {},
   "source": [
    "<h1 align='center'> Template Strings </h1>\n",
    "\n",
    "```Python\n",
    "nome = 'Erick'\n",
    "idade = 22\n",
    "\n",
    "print(f'{nome} tem {idade} anos')\n",
    "print('{} tem {} anos'.format(nome, idade)\n",
    "```"
   ]
  }
 ],
 "metadata": {
  "kernelspec": {
   "display_name": "Python 3 (ipykernel)",
   "language": "python",
   "name": "python3"
  },
  "language_info": {
   "codemirror_mode": {
    "name": "ipython",
    "version": 3
   },
   "file_extension": ".py",
   "mimetype": "text/x-python",
   "name": "python",
   "nbconvert_exporter": "python",
   "pygments_lexer": "ipython3",
   "version": "3.10.2"
  }
 },
 "nbformat": 4,
 "nbformat_minor": 5
}
