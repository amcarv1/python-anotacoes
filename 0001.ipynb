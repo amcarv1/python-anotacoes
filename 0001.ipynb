{
 "cells": [
  {
   "cell_type": "markdown",
   "id": "e0256fb2",
   "metadata": {},
   "source": [
    "<h1 align=\"center\"> print() </h1>"
   ]
  },
  {
   "cell_type": "markdown",
   "id": "d07586ee",
   "metadata": {},
   "source": [
    "<li>Usamos a função print() sempre que desejamos exibir algo no output.</li>"
   ]
  },
  {
   "cell_type": "markdown",
   "id": "47c5066d",
   "metadata": {},
   "source": [
    "```Python\n",
    "print('Olá, Mundo!') # Exibindo uma string com aspas simples.\n",
    "\n",
    "print(\"Olá, Mundo!\") # Exibindo uma string com aspas duplas.\n",
    "\n",
    "print(2) # Exibindo um número inteiro.\n",
    "\n",
    "print(72.3) # Exibindo um número do tipo float.\n",
    "```"
   ]
  }
 ],
 "metadata": {
  "kernelspec": {
   "display_name": "Python 3 (ipykernel)",
   "language": "python",
   "name": "python3"
  },
  "language_info": {
   "codemirror_mode": {
    "name": "ipython",
    "version": 3
   },
   "file_extension": ".py",
   "mimetype": "text/x-python",
   "name": "python",
   "nbconvert_exporter": "python",
   "pygments_lexer": "ipython3",
   "version": "3.10.2"
  }
 },
 "nbformat": 4,
 "nbformat_minor": 5
}
