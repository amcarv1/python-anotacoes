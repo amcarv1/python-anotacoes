{
 "cells": [
  {
   "cell_type": "markdown",
   "id": "ff4915fd",
   "metadata": {},
   "source": [
    "<h1 align='center'>Operadores Aritméticos</h1>\n",
    "\n",
    "```python\n",
    "print(5 + 10) # Soma\n",
    "print(24 - 3) # Subtração\n",
    "print(12 * 2) # Multiplicação\n",
    "print(64 / 8) # Divisão\n",
    "print(12 % 3) # Resto da Divisão\n",
    "print(3 ** 4) # Exponenciação\n",
    "print(100 // 3) # Parte Inteira da Divisão\n",
    "```"
   ]
  }
 ],
 "metadata": {
  "kernelspec": {
   "display_name": "Python 3 (ipykernel)",
   "language": "python",
   "name": "python3"
  },
  "language_info": {
   "codemirror_mode": {
    "name": "ipython",
    "version": 3
   },
   "file_extension": ".py",
   "mimetype": "text/x-python",
   "name": "python",
   "nbconvert_exporter": "python",
   "pygments_lexer": "ipython3",
   "version": "3.10.2"
  }
 },
 "nbformat": 4,
 "nbformat_minor": 5
}
